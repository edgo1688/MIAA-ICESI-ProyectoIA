{
 "cells": [
  {
   "cell_type": "markdown",
   "id": "e57b113e",
   "metadata": {},
   "source": [
    "# Evaluación del modelo Xception para el Tamizaje automatizado de glaucoma con Inteligencia Artificial"
   ]
  },
  {
   "cell_type": "code",
   "execution_count": 12,
   "id": "ce021e99",
   "metadata": {},
   "outputs": [],
   "source": [
    "import os\n",
    "import pandas as pd\n",
    "import tensorflow as tf\n",
    "from tensorflow.keras.preprocessing.image import ImageDataGenerator\n",
    "from tensorflow.keras.applications import Xception\n",
    "from tensorflow.keras.layers import GlobalAveragePooling2D, Dense, Dropout\n",
    "from tensorflow.keras.models import Model\n",
    "from tensorflow.keras.callbacks import ModelCheckpoint, ReduceLROnPlateau, EarlyStopping\n"
   ]
  },
  {
   "cell_type": "markdown",
   "id": "832c2f79",
   "metadata": {},
   "source": [
    "## Descripción de las bases de datos:\n",
    "\n",
    "1. ORIGA(-light) contiene 650 imágenes retinianas anotadas por profesionales formados del Instituto de Investigación Ocular de Singapur.\n",
    "\n",
    "    La base de datos está compuesta por un conjunto de imágenes y un archivo en formato CSV que contiene las columnas que se aprecian a continuación:\n",
    "\n",
    "    Las  columnas (Image, CDR, Ecc-Cup, Ecc-Disc)  corresponden a variables explicativas y la última (Glaucoma) corresponde a nuestra variable clasificatoria.\n",
    "\n",
    "    Cada una de estas columnas se explica de la siguiente manera:\n",
    "\n",
    "\n",
    "    - Image: Nombre de archivo de imagen.\n",
    "    - Source: Fuente del dato\n",
    "    - CDR: Cup-to-Disc Ratio. Proporción entre el diámetro del \"cup\" (excavación central) y el disco óptico. Valor clave en la detección de glaucoma..\n",
    "    - Ecc-Cup: Excentricidad de la región de excavación del nervio óptico (cup). Una medida morfológica.\n",
    "    - Ecc-Disc: Excentricidad del disco óptico completo. Ayuda a describir la forma del disco.\n",
    "    - Glaucoma: Variable clasificatoria que identifica el diagnóstico negativo (0) o positivo (1) del glaucoma\n",
    "\n",
    "2. G1020 esta base de datos consta de 1020 imágenes de fondo de ojo en color de alta resolución y proporciona anotaciones de la verdad fundamental para el diagnóstico del glaucoma.\n",
    "\n",
    "    La base de datos está compuesta por un conjunto de imágenes y un archivo en formato CSV en donde se encuentra el label de la variable predictora (Glaucoma).\n",
    "\n",
    "3. REFUGE (Retinal Fundus Glaucoma Challenge) es una base de datos pública creada para fomentar el desarrollo de algoritmos de inteligencia artificial en la detección automática de glaucoma a partir de imágenes de fondo de ojo (retinografías). Contiene 1200 imágenes de fondo de ojo (color fundus images) de alta calidad, provenientes de los centros clínicos Zhongshan Ophthalmic Center (ZOC) y Beijing Tongren Hospital (TR).\n",
    "\n",
    "### Bases de datos públicas utilizadas para detección de Glaucoma\n",
    "\n",
    "| Dataset  | Nº de Imágenes | Resolución | Anotaciones Disponibles | Etiqueta de Glaucoma | Fuente | Acceso |\n",
    "|----------|----------------|------------|--------------------------|----------------------|--------|--------|\n",
    "| **REFUGE** | 1200 | ~2124×2056 px | Segmentación de disco y copa óptica | ✅ | Zhongshan Ophthalmic Center, Beijing Tongren Hospital | [refuge.grand-challenge.org](https://refuge.grand-challenge.org/) |\n",
    "| **ORIGA**  | 650  | 3072×2048 px   | Segmentación + CDR + labels | ✅ | Singapore Eye Research Institute | [Kaggle](https://www.kaggle.com/datasets/arnavjain1/glaucoma-datasets?select=ORIGA) |\n",
    "| **G1020**  | 1020 | 2124×2056 px   | Segmentación + medidas clínicas (CDR, VCDR, etc.) | ✅ | MESSIDOR + anotación médica posterior | [G1020 en Zenodo](https://zenodo.org/record/6333984) |\n",
    "\n"
   ]
  },
  {
   "cell_type": "markdown",
   "id": "0422c4ad",
   "metadata": {},
   "source": []
  },
  {
   "cell_type": "markdown",
   "id": "c31542d3",
   "metadata": {},
   "source": [
    "## Carga de los datos"
   ]
  },
  {
   "cell_type": "code",
   "execution_count": 13,
   "id": "ac78777b",
   "metadata": {},
   "outputs": [],
   "source": [
    "df_origa = pd.read_csv(r\"G:\\Mi unidad\\Master_MIAA\\1er_Semestre\\5_ProyectoiNN\\MIAA-ICESI-ProyectoIA\\datos\\ORIGA\\OrigaList.csv\")"
   ]
  },
  {
   "cell_type": "code",
   "execution_count": 14,
   "id": "c288e299",
   "metadata": {},
   "outputs": [
    {
     "name": "stdout",
     "output_type": "stream",
     "text": [
      "¿Existe origa_root?: True\n",
      "Contenido de ORIGA:\n",
      " ['OrigaList.csv', 'origa_info.csv', 'Images', 'Images_Cropped', 'Images_Square', 'Masks', 'Masks_Cropped', 'Masks_Square', 'Semi-automatic-annotations']\n"
     ]
    }
   ],
   "source": [
    "import os\n",
    "\n",
    "# Carpeta ORIGA bajo “datos”\n",
    "origa_root = r\"G:\\Mi unidad\\Master_MIAA\\1er_Semestre\\5_ProyectoiNN\\MIAA-ICESI-ProyectoIA\\datos\\ORIGA\"\n",
    "\n",
    "print(\"¿Existe origa_root?:\", os.path.exists(origa_root))\n",
    "print(\"Contenido de ORIGA:\\n\", os.listdir(origa_root))\n"
   ]
  },
  {
   "cell_type": "code",
   "execution_count": 15,
   "id": "4f623143",
   "metadata": {},
   "outputs": [
    {
     "name": "stdout",
     "output_type": "stream",
     "text": [
      "  Eye Filename  ExpCDR Set  Glaucoma\n",
      "0  OD  001.jpg  0.7097   A         0\n",
      "1  OS  002.jpg  0.6953   A         0\n",
      "2  OS  003.jpg  0.9629   A         0\n",
      "3  OD  004.jpg  0.7246   A         0\n",
      "4  OS  005.jpg  0.6138   A         0\n",
      "<class 'pandas.core.frame.DataFrame'>\n",
      "RangeIndex: 650 entries, 0 to 649\n",
      "Data columns (total 5 columns):\n",
      " #   Column    Non-Null Count  Dtype  \n",
      "---  ------    --------------  -----  \n",
      " 0   Eye       650 non-null    object \n",
      " 1   Filename  650 non-null    object \n",
      " 2   ExpCDR    650 non-null    float64\n",
      " 3   Set       650 non-null    object \n",
      " 4   Glaucoma  650 non-null    int64  \n",
      "dtypes: float64(1), int64(1), object(3)\n",
      "memory usage: 25.5+ KB\n",
      "None\n"
     ]
    }
   ],
   "source": [
    "print(df_origa.head())\n",
    "print(df_origa.info())\n"
   ]
  },
  {
   "cell_type": "code",
   "execution_count": 16,
   "id": "b32e91f6",
   "metadata": {},
   "outputs": [
    {
     "name": "stdout",
     "output_type": "stream",
     "text": [
      "exists\n",
      "True    650\n",
      "Name: count, dtype: int64\n"
     ]
    }
   ],
   "source": [
    "import os\n",
    "\n",
    "# 1) Ruta exacta a la carpeta de JPEGs\n",
    "img_dir = r\"G:\\Mi unidad\\Master_MIAA\\1er_Semestre\\5_ProyectoiNN\\MIAA-ICESI-ProyectoIA\\datos\\ORIGA\\Images\"\n",
    "\n",
    "# 2) Reconstruye filepath usando la columna correcta\n",
    "df_origa[\"filepath\"] = df_origa[\"Filename\"].apply(lambda fn: os.path.join(img_dir, fn))\n",
    "\n",
    "# 3) Comprueba de nuevo cuántos existen\n",
    "df_origa[\"exists\"] = df_origa[\"filepath\"].apply(os.path.exists)\n",
    "print(df_origa[\"exists\"].value_counts())\n"
   ]
  },
  {
   "cell_type": "code",
   "execution_count": 17,
   "id": "6873f0a4",
   "metadata": {},
   "outputs": [
    {
     "name": "stdout",
     "output_type": "stream",
     "text": [
      "Index(['Eye', 'Filename', 'ExpCDR', 'Set', 'Glaucoma', 'filepath', 'exists',\n",
      "       'label'],\n",
      "      dtype='object')\n",
      "Train: (520, 8) – Val: (130, 8)\n"
     ]
    }
   ],
   "source": [
    "# 1) Crea la columna label (como string o entero, según prefieras):\n",
    "#    - Para flow_from_dataframe con class_mode=\"binary\", puedes dejarlo como entero (0 y 1)\n",
    "#    - O convertirlo a cadena si usas class_mode=\"categorical\"\n",
    "df_origa[\"label\"] = df_origa[\"Glaucoma\"]  # queda 0 / 1 como entero\n",
    "\n",
    "# 2) Comprueba que efectivamente existe:\n",
    "print(df_origa.columns)\n",
    "# Deberías ver: ['Eye','Filename','ExpCDR','Set','Glaucoma','filepath','exists','label']\n",
    "\n",
    "# 3) Ahora sí, haz el split estratificado\n",
    "from sklearn.model_selection import train_test_split\n",
    "\n",
    "train_df, val_df = train_test_split(\n",
    "    df_origa,\n",
    "    test_size=0.2,\n",
    "    stratify=df_origa[\"label\"],\n",
    "    random_state=42\n",
    ")\n",
    "\n",
    "print(\"Train:\", train_df.shape, \"– Val:\", val_df.shape)\n"
   ]
  },
  {
   "cell_type": "code",
   "execution_count": 18,
   "id": "cbc825a8",
   "metadata": {},
   "outputs": [],
   "source": [
    "# Convierte labels a string en ambos splits\n",
    "train_df[\"label\"] = train_df[\"label\"].astype(str)\n",
    "val_df  [\"label\"] = val_df  [\"label\"].astype(str)"
   ]
  },
  {
   "cell_type": "code",
   "execution_count": 20,
   "id": "e7226724",
   "metadata": {},
   "outputs": [
    {
     "name": "stdout",
     "output_type": "stream",
     "text": [
      "Found 520 validated image filenames belonging to 2 classes.\n",
      "Found 130 validated image filenames belonging to 2 classes.\n"
     ]
    }
   ],
   "source": [
    "# 3) Generadores de imágenes\n",
    "\n",
    "from tensorflow.keras.preprocessing.image import ImageDataGenerator\n",
    "\n",
    "# 1) (Re)define los ImageDataGenerator\n",
    "train_datagen = ImageDataGenerator(\n",
    "    rescale=1./255,\n",
    "    horizontal_flip=True,\n",
    "    rotation_range=15,\n",
    "    width_shift_range=0.1,\n",
    "    height_shift_range=0.1\n",
    ")\n",
    "val_datagen = ImageDataGenerator(rescale=1./255)\n",
    "\n",
    "# 2) (Re)crea los generadores\n",
    "train_gen = train_datagen.flow_from_dataframe(\n",
    "    train_df,\n",
    "    x_col=\"filepath\",\n",
    "    y_col=\"label\",\n",
    "    target_size=(299, 299),\n",
    "    batch_size=16,\n",
    "    class_mode=\"binary\",\n",
    "    shuffle=True\n",
    ")\n",
    "\n",
    "val_gen = val_datagen.flow_from_dataframe(\n",
    "    val_df,\n",
    "    x_col=\"filepath\",\n",
    "    y_col=\"label\",\n",
    "    target_size=(299, 299),\n",
    "    batch_size=16,\n",
    "    class_mode=\"binary\",\n",
    "    shuffle=False\n",
    ")"
   ]
  },
  {
   "cell_type": "code",
   "execution_count": 21,
   "id": "1d46bb06",
   "metadata": {},
   "outputs": [
    {
     "name": "stderr",
     "output_type": "stream",
     "text": [
      "g:\\Mi unidad\\Master_MIAA\\1er_Semestre\\5_ProyectoiNN\\MIAA-ICESI-ProyectoIA\\.venv\\Lib\\site-packages\\keras\\src\\trainers\\data_adapters\\py_dataset_adapter.py:121: UserWarning: Your `PyDataset` class should call `super().__init__(**kwargs)` in its constructor. `**kwargs` can include `workers`, `use_multiprocessing`, `max_queue_size`. Do not pass these arguments to `fit()`, as they will be ignored.\n",
      "  self._warn_if_super_not_called()\n"
     ]
    },
    {
     "name": "stdout",
     "output_type": "stream",
     "text": [
      "Epoch 1/20\n",
      "\u001b[1m33/33\u001b[0m \u001b[32m━━━━━━━━━━━━━━━━━━━━\u001b[0m\u001b[37m\u001b[0m \u001b[1m0s\u001b[0m 1s/step - accuracy: 0.7722 - auc: 0.4679 - loss: 0.5778\n",
      "Epoch 1: val_auc improved from inf to 0.51241, saving model to best_origa_xception.h5\n"
     ]
    },
    {
     "name": "stderr",
     "output_type": "stream",
     "text": [
      "WARNING:absl:You are saving your model as an HDF5 file via `model.save()` or `keras.saving.save_model(model)`. This file format is considered legacy. We recommend using instead the native Keras format, e.g. `model.save('my_model.keras')` or `keras.saving.save_model(model, 'my_model.keras')`. \n"
     ]
    },
    {
     "name": "stdout",
     "output_type": "stream",
     "text": [
      "\u001b[1m33/33\u001b[0m \u001b[32m━━━━━━━━━━━━━━━━━━━━\u001b[0m\u001b[37m\u001b[0m \u001b[1m54s\u001b[0m 2s/step - accuracy: 0.7713 - auc: 0.4682 - loss: 0.5783 - val_accuracy: 0.7385 - val_auc: 0.5124 - val_loss: 0.5772 - learning_rate: 1.0000e-04\n",
      "Epoch 2/20\n",
      "\u001b[1m33/33\u001b[0m \u001b[32m━━━━━━━━━━━━━━━━━━━━\u001b[0m\u001b[37m\u001b[0m \u001b[1m0s\u001b[0m 1s/step - accuracy: 0.7389 - auc: 0.4847 - loss: 0.5903\n",
      "Epoch 2: val_auc did not improve from 0.51241\n",
      "\u001b[1m33/33\u001b[0m \u001b[32m━━━━━━━━━━━━━━━━━━━━\u001b[0m\u001b[37m\u001b[0m \u001b[1m44s\u001b[0m 1s/step - accuracy: 0.7390 - auc: 0.4849 - loss: 0.5901 - val_accuracy: 0.7385 - val_auc: 0.5440 - val_loss: 0.5725 - learning_rate: 1.0000e-04\n",
      "Epoch 3/20\n",
      "\u001b[1m33/33\u001b[0m \u001b[32m━━━━━━━━━━━━━━━━━━━━\u001b[0m\u001b[37m\u001b[0m \u001b[1m0s\u001b[0m 1s/step - accuracy: 0.7412 - auc: 0.5831 - loss: 0.5658\n",
      "Epoch 3: val_auc did not improve from 0.51241\n",
      "\u001b[1m33/33\u001b[0m \u001b[32m━━━━━━━━━━━━━━━━━━━━\u001b[0m\u001b[37m\u001b[0m \u001b[1m43s\u001b[0m 1s/step - accuracy: 0.7413 - auc: 0.5822 - loss: 0.5658 - val_accuracy: 0.7385 - val_auc: 0.5654 - val_loss: 0.5706 - learning_rate: 1.0000e-04\n",
      "Epoch 4/20\n",
      "\u001b[1m33/33\u001b[0m \u001b[32m━━━━━━━━━━━━━━━━━━━━\u001b[0m\u001b[37m\u001b[0m \u001b[1m0s\u001b[0m 1s/step - accuracy: 0.7535 - auc: 0.4688 - loss: 0.5733\n",
      "Epoch 4: val_auc did not improve from 0.51241\n",
      "\u001b[1m33/33\u001b[0m \u001b[32m━━━━━━━━━━━━━━━━━━━━\u001b[0m\u001b[37m\u001b[0m \u001b[1m42s\u001b[0m 1s/step - accuracy: 0.7531 - auc: 0.4707 - loss: 0.5733 - val_accuracy: 0.7385 - val_auc: 0.5895 - val_loss: 0.5682 - learning_rate: 1.0000e-04\n",
      "Epoch 5/20\n",
      "\u001b[1m33/33\u001b[0m \u001b[32m━━━━━━━━━━━━━━━━━━━━\u001b[0m\u001b[37m\u001b[0m \u001b[1m0s\u001b[0m 1s/step - accuracy: 0.7630 - auc: 0.5646 - loss: 0.5462\n",
      "Epoch 5: val_auc did not improve from 0.51241\n",
      "\u001b[1m33/33\u001b[0m \u001b[32m━━━━━━━━━━━━━━━━━━━━\u001b[0m\u001b[37m\u001b[0m \u001b[1m42s\u001b[0m 1s/step - accuracy: 0.7624 - auc: 0.5652 - loss: 0.5467 - val_accuracy: 0.7385 - val_auc: 0.5925 - val_loss: 0.5663 - learning_rate: 1.0000e-04\n",
      "Epoch 6/20\n",
      "\u001b[1m33/33\u001b[0m \u001b[32m━━━━━━━━━━━━━━━━━━━━\u001b[0m\u001b[37m\u001b[0m \u001b[1m0s\u001b[0m 1s/step - accuracy: 0.7564 - auc: 0.5778 - loss: 0.5484\n",
      "Epoch 6: val_auc did not improve from 0.51241\n",
      "\u001b[1m33/33\u001b[0m \u001b[32m━━━━━━━━━━━━━━━━━━━━\u001b[0m\u001b[37m\u001b[0m \u001b[1m42s\u001b[0m 1s/step - accuracy: 0.7560 - auc: 0.5778 - loss: 0.5489 - val_accuracy: 0.7385 - val_auc: 0.6155 - val_loss: 0.5635 - learning_rate: 1.0000e-04\n",
      "Epoch 7/20\n",
      "\u001b[1m33/33\u001b[0m \u001b[32m━━━━━━━━━━━━━━━━━━━━\u001b[0m\u001b[37m\u001b[0m \u001b[1m0s\u001b[0m 1s/step - accuracy: 0.7376 - auc: 0.6111 - loss: 0.5622\n",
      "Epoch 7: val_auc did not improve from 0.51241\n",
      "\u001b[1m33/33\u001b[0m \u001b[32m━━━━━━━━━━━━━━━━━━━━\u001b[0m\u001b[37m\u001b[0m \u001b[1m43s\u001b[0m 1s/step - accuracy: 0.7378 - auc: 0.6108 - loss: 0.5621 - val_accuracy: 0.7385 - val_auc: 0.6247 - val_loss: 0.5622 - learning_rate: 1.0000e-04\n",
      "Epoch 8/20\n",
      "\u001b[1m33/33\u001b[0m \u001b[32m━━━━━━━━━━━━━━━━━━━━\u001b[0m\u001b[37m\u001b[0m \u001b[1m0s\u001b[0m 1s/step - accuracy: 0.7412 - auc: 0.5832 - loss: 0.5647\n",
      "Epoch 8: val_auc did not improve from 0.51241\n",
      "\u001b[1m33/33\u001b[0m \u001b[32m━━━━━━━━━━━━━━━━━━━━\u001b[0m\u001b[37m\u001b[0m \u001b[1m44s\u001b[0m 1s/step - accuracy: 0.7412 - auc: 0.5839 - loss: 0.5645 - val_accuracy: 0.7385 - val_auc: 0.6330 - val_loss: 0.5609 - learning_rate: 1.0000e-04\n",
      "Epoch 9/20\n",
      "\u001b[1m33/33\u001b[0m \u001b[32m━━━━━━━━━━━━━━━━━━━━\u001b[0m\u001b[37m\u001b[0m \u001b[1m0s\u001b[0m 1s/step - accuracy: 0.7579 - auc: 0.6801 - loss: 0.5298\n",
      "Epoch 9: val_auc did not improve from 0.51241\n",
      "\u001b[1m33/33\u001b[0m \u001b[32m━━━━━━━━━━━━━━━━━━━━\u001b[0m\u001b[37m\u001b[0m \u001b[1m43s\u001b[0m 1s/step - accuracy: 0.7574 - auc: 0.6795 - loss: 0.5303 - val_accuracy: 0.7385 - val_auc: 0.6379 - val_loss: 0.5593 - learning_rate: 1.0000e-04\n",
      "Epoch 10/20\n",
      "\u001b[1m33/33\u001b[0m \u001b[32m━━━━━━━━━━━━━━━━━━━━\u001b[0m\u001b[37m\u001b[0m \u001b[1m0s\u001b[0m 1s/step - accuracy: 0.7345 - auc: 0.5955 - loss: 0.5660\n",
      "Epoch 10: val_auc did not improve from 0.51241\n",
      "\u001b[1m33/33\u001b[0m \u001b[32m━━━━━━━━━━━━━━━━━━━━\u001b[0m\u001b[37m\u001b[0m \u001b[1m42s\u001b[0m 1s/step - accuracy: 0.7348 - auc: 0.5963 - loss: 0.5656 - val_accuracy: 0.7385 - val_auc: 0.6541 - val_loss: 0.5568 - learning_rate: 1.0000e-04\n",
      "Epoch 11/20\n",
      "\u001b[1m33/33\u001b[0m \u001b[32m━━━━━━━━━━━━━━━━━━━━\u001b[0m\u001b[37m\u001b[0m \u001b[1m0s\u001b[0m 1s/step - accuracy: 0.7411 - auc: 0.6538 - loss: 0.5451\n",
      "Epoch 11: val_auc did not improve from 0.51241\n",
      "\u001b[1m33/33\u001b[0m \u001b[32m━━━━━━━━━━━━━━━━━━━━\u001b[0m\u001b[37m\u001b[0m \u001b[1m43s\u001b[0m 1s/step - accuracy: 0.7411 - auc: 0.6527 - loss: 0.5453 - val_accuracy: 0.7385 - val_auc: 0.6569 - val_loss: 0.5556 - learning_rate: 1.0000e-04\n",
      "Epoch 12/20\n",
      "\u001b[1m33/33\u001b[0m \u001b[32m━━━━━━━━━━━━━━━━━━━━\u001b[0m\u001b[37m\u001b[0m \u001b[1m0s\u001b[0m 1s/step - accuracy: 0.7210 - auc: 0.6627 - loss: 0.5673\n",
      "Epoch 12: val_auc did not improve from 0.51241\n",
      "\u001b[1m33/33\u001b[0m \u001b[32m━━━━━━━━━━━━━━━━━━━━\u001b[0m\u001b[37m\u001b[0m \u001b[1m42s\u001b[0m 1s/step - accuracy: 0.7216 - auc: 0.6625 - loss: 0.5668 - val_accuracy: 0.7385 - val_auc: 0.6625 - val_loss: 0.5544 - learning_rate: 1.0000e-04\n",
      "Epoch 13/20\n",
      "\u001b[1m33/33\u001b[0m \u001b[32m━━━━━━━━━━━━━━━━━━━━\u001b[0m\u001b[37m\u001b[0m \u001b[1m0s\u001b[0m 1s/step - accuracy: 0.7579 - auc: 0.6589 - loss: 0.5280\n",
      "Epoch 13: val_auc did not improve from 0.51241\n",
      "\u001b[1m33/33\u001b[0m \u001b[32m━━━━━━━━━━━━━━━━━━━━\u001b[0m\u001b[37m\u001b[0m \u001b[1m42s\u001b[0m 1s/step - accuracy: 0.7574 - auc: 0.6591 - loss: 0.5285 - val_accuracy: 0.7385 - val_auc: 0.6680 - val_loss: 0.5527 - learning_rate: 1.0000e-04\n",
      "Epoch 14/20\n",
      "\u001b[1m33/33\u001b[0m \u001b[32m━━━━━━━━━━━━━━━━━━━━\u001b[0m\u001b[37m\u001b[0m \u001b[1m0s\u001b[0m 1s/step - accuracy: 0.7379 - auc: 0.6984 - loss: 0.5410\n",
      "Epoch 14: val_auc did not improve from 0.51241\n",
      "\u001b[1m33/33\u001b[0m \u001b[32m━━━━━━━━━━━━━━━━━━━━\u001b[0m\u001b[37m\u001b[0m \u001b[1m43s\u001b[0m 1s/step - accuracy: 0.7381 - auc: 0.6982 - loss: 0.5408 - val_accuracy: 0.7385 - val_auc: 0.6714 - val_loss: 0.5506 - learning_rate: 1.0000e-04\n",
      "Epoch 15/20\n",
      "\u001b[1m33/33\u001b[0m \u001b[32m━━━━━━━━━━━━━━━━━━━━\u001b[0m\u001b[37m\u001b[0m \u001b[1m0s\u001b[0m 1s/step - accuracy: 0.7258 - auc: 0.6647 - loss: 0.5548\n",
      "Epoch 15: val_auc did not improve from 0.51241\n",
      "\u001b[1m33/33\u001b[0m \u001b[32m━━━━━━━━━━━━━━━━━━━━\u001b[0m\u001b[37m\u001b[0m \u001b[1m42s\u001b[0m 1s/step - accuracy: 0.7263 - auc: 0.6649 - loss: 0.5543 - val_accuracy: 0.7385 - val_auc: 0.6713 - val_loss: 0.5495 - learning_rate: 1.0000e-04\n",
      "Epoch 16/20\n",
      "\u001b[1m33/33\u001b[0m \u001b[32m━━━━━━━━━━━━━━━━━━━━\u001b[0m\u001b[37m\u001b[0m \u001b[1m0s\u001b[0m 1s/step - accuracy: 0.7565 - auc: 0.6909 - loss: 0.5203\n",
      "Epoch 16: val_auc did not improve from 0.51241\n",
      "\u001b[1m33/33\u001b[0m \u001b[32m━━━━━━━━━━━━━━━━━━━━\u001b[0m\u001b[37m\u001b[0m \u001b[1m41s\u001b[0m 1s/step - accuracy: 0.7561 - auc: 0.6906 - loss: 0.5207 - val_accuracy: 0.7385 - val_auc: 0.6722 - val_loss: 0.5493 - learning_rate: 1.0000e-04\n",
      "Epoch 17/20\n",
      "\u001b[1m33/33\u001b[0m \u001b[32m━━━━━━━━━━━━━━━━━━━━\u001b[0m\u001b[37m\u001b[0m \u001b[1m0s\u001b[0m 1s/step - accuracy: 0.7723 - auc: 0.7008 - loss: 0.5048\n",
      "Epoch 17: val_auc did not improve from 0.51241\n",
      "\u001b[1m33/33\u001b[0m \u001b[32m━━━━━━━━━━━━━━━━━━━━\u001b[0m\u001b[37m\u001b[0m \u001b[1m42s\u001b[0m 1s/step - accuracy: 0.7715 - auc: 0.7005 - loss: 0.5057 - val_accuracy: 0.7385 - val_auc: 0.6780 - val_loss: 0.5475 - learning_rate: 1.0000e-04\n",
      "Epoch 18/20\n",
      "\u001b[1m33/33\u001b[0m \u001b[32m━━━━━━━━━━━━━━━━━━━━\u001b[0m\u001b[37m\u001b[0m \u001b[1m0s\u001b[0m 1s/step - accuracy: 0.7635 - auc: 0.6935 - loss: 0.5156\n",
      "Epoch 18: val_auc did not improve from 0.51241\n",
      "\u001b[1m33/33\u001b[0m \u001b[32m━━━━━━━━━━━━━━━━━━━━\u001b[0m\u001b[37m\u001b[0m \u001b[1m41s\u001b[0m 1s/step - accuracy: 0.7631 - auc: 0.6930 - loss: 0.5163 - val_accuracy: 0.7385 - val_auc: 0.6812 - val_loss: 0.5466 - learning_rate: 1.0000e-04\n",
      "Epoch 19/20\n",
      "\u001b[1m33/33\u001b[0m \u001b[32m━━━━━━━━━━━━━━━━━━━━\u001b[0m\u001b[37m\u001b[0m \u001b[1m0s\u001b[0m 1s/step - accuracy: 0.7720 - auc: 0.7170 - loss: 0.5051\n",
      "Epoch 19: val_auc did not improve from 0.51241\n",
      "\u001b[1m33/33\u001b[0m \u001b[32m━━━━━━━━━━━━━━━━━━━━\u001b[0m\u001b[37m\u001b[0m \u001b[1m41s\u001b[0m 1s/step - accuracy: 0.7712 - auc: 0.7164 - loss: 0.5059 - val_accuracy: 0.7385 - val_auc: 0.6877 - val_loss: 0.5460 - learning_rate: 1.0000e-04\n",
      "Epoch 20/20\n",
      "\u001b[1m33/33\u001b[0m \u001b[32m━━━━━━━━━━━━━━━━━━━━\u001b[0m\u001b[37m\u001b[0m \u001b[1m0s\u001b[0m 1s/step - accuracy: 0.7619 - auc: 0.6764 - loss: 0.5202\n",
      "Epoch 20: val_auc did not improve from 0.51241\n",
      "\u001b[1m33/33\u001b[0m \u001b[32m━━━━━━━━━━━━━━━━━━━━\u001b[0m\u001b[37m\u001b[0m \u001b[1m41s\u001b[0m 1s/step - accuracy: 0.7614 - auc: 0.6770 - loss: 0.5205 - val_accuracy: 0.7385 - val_auc: 0.6864 - val_loss: 0.5454 - learning_rate: 1.0000e-04\n",
      "Restoring model weights from the end of the best epoch: 20.\n"
     ]
    }
   ],
   "source": [
    "import tensorflow as tf\n",
    "from tensorflow.keras.applications import Xception\n",
    "from tensorflow.keras.layers import GlobalAveragePooling2D, Dropout, Dense\n",
    "from tensorflow.keras.models import Model\n",
    "from tensorflow.keras.callbacks import ModelCheckpoint, ReduceLROnPlateau, EarlyStopping\n",
    "\n",
    "# 1) Construye la base Xception preentrenada (sin la cabeza de clasificación)\n",
    "base = Xception(\n",
    "    weights=\"imagenet\",\n",
    "    include_top=False,\n",
    "    input_shape=(299, 299, 3)\n",
    ")\n",
    "\n",
    "# 2) Añade tu “cabeza” de clasificación\n",
    "x = GlobalAveragePooling2D()(base.output)\n",
    "x = Dropout(0.3)(x)                     # previene overfitting\n",
    "output = Dense(1, activation=\"sigmoid\")(x)\n",
    "\n",
    "model = Model(inputs=base.input, outputs=output)\n",
    "\n",
    "# 3) Congela los pesos de la base durante la fase inicial\n",
    "for layer in base.layers:\n",
    "    layer.trainable = False\n",
    "\n",
    "# 4) Compila con una tasa de aprendizaje moderada\n",
    "model.compile(\n",
    "    optimizer=tf.keras.optimizers.Adam(learning_rate=1e-4),\n",
    "    loss=\"binary_crossentropy\",\n",
    "    metrics=[\"accuracy\", tf.keras.metrics.AUC(name=\"auc\")]\n",
    ")\n",
    "\n",
    "# 5) Define callbacks para guardar el mejor modelo y ajustar el LR\n",
    "callbacks = [\n",
    "    ModelCheckpoint(\n",
    "        \"best_origa_xception.h5\",\n",
    "        monitor=\"val_auc\",\n",
    "        save_best_only=True,\n",
    "        verbose=1\n",
    "    ),\n",
    "    ReduceLROnPlateau(\n",
    "        monitor=\"val_loss\",\n",
    "        factor=0.5,\n",
    "        patience=3,\n",
    "        verbose=1\n",
    "    ),\n",
    "    EarlyStopping(\n",
    "        monitor=\"val_loss\",\n",
    "        patience=6,\n",
    "        restore_best_weights=True,\n",
    "        verbose=1\n",
    "    )\n",
    "]\n",
    "\n",
    "# 6) Entrena\n",
    "history = model.fit(\n",
    "    train_gen,\n",
    "    validation_data=val_gen,\n",
    "    epochs=20,\n",
    "    callbacks=callbacks\n",
    ")\n",
    "\n"
   ]
  },
  {
   "cell_type": "code",
   "execution_count": 22,
   "id": "7bbcc66b",
   "metadata": {},
   "outputs": [
    {
     "name": "stdout",
     "output_type": "stream",
     "text": [
      "\u001b[1m9/9\u001b[0m \u001b[32m━━━━━━━━━━━━━━━━━━━━\u001b[0m\u001b[37m\u001b[0m \u001b[1m10s\u001b[0m 902ms/step\n",
      "              precision    recall  f1-score   support\n",
      "\n",
      "        Sano       0.74      1.00      0.85        96\n",
      "    Glaucoma       0.00      0.00      0.00        34\n",
      "\n",
      "    accuracy                           0.74       130\n",
      "   macro avg       0.37      0.50      0.42       130\n",
      "weighted avg       0.55      0.74      0.63       130\n",
      "\n",
      "Confusion Matrix:\n",
      " [[96  0]\n",
      " [34  0]]\n"
     ]
    },
    {
     "name": "stderr",
     "output_type": "stream",
     "text": [
      "g:\\Mi unidad\\Master_MIAA\\1er_Semestre\\5_ProyectoiNN\\MIAA-ICESI-ProyectoIA\\.venv\\Lib\\site-packages\\sklearn\\metrics\\_classification.py:1565: UndefinedMetricWarning: Precision is ill-defined and being set to 0.0 in labels with no predicted samples. Use `zero_division` parameter to control this behavior.\n",
      "  _warn_prf(average, modifier, f\"{metric.capitalize()} is\", len(result))\n",
      "g:\\Mi unidad\\Master_MIAA\\1er_Semestre\\5_ProyectoiNN\\MIAA-ICESI-ProyectoIA\\.venv\\Lib\\site-packages\\sklearn\\metrics\\_classification.py:1565: UndefinedMetricWarning: Precision is ill-defined and being set to 0.0 in labels with no predicted samples. Use `zero_division` parameter to control this behavior.\n",
      "  _warn_prf(average, modifier, f\"{metric.capitalize()} is\", len(result))\n",
      "g:\\Mi unidad\\Master_MIAA\\1er_Semestre\\5_ProyectoiNN\\MIAA-ICESI-ProyectoIA\\.venv\\Lib\\site-packages\\sklearn\\metrics\\_classification.py:1565: UndefinedMetricWarning: Precision is ill-defined and being set to 0.0 in labels with no predicted samples. Use `zero_division` parameter to control this behavior.\n",
      "  _warn_prf(average, modifier, f\"{metric.capitalize()} is\", len(result))\n"
     ]
    }
   ],
   "source": [
    "import numpy as np\n",
    "from sklearn.metrics import classification_report, confusion_matrix\n",
    "\n",
    "# 1) Predicciones (probabilidades) y clases binarias\n",
    "probs = model.predict(val_gen)\n",
    "y_pred = (probs > 0.5).astype(int).ravel()\n",
    "\n",
    "# 2) Etiquetas verdaderas (transforma strings a int)\n",
    "y_true = val_df[\"label\"].astype(int).values\n",
    "\n",
    "# 3) Reporte de métricas\n",
    "print(classification_report(y_true, y_pred, target_names=[\"Sano\",\"Glaucoma\"]))\n",
    "\n",
    "# 4) Matriz de confusión\n",
    "cm = confusion_matrix(y_true, y_pred)\n",
    "print(\"Confusion Matrix:\\n\", cm)\n"
   ]
  },
  {
   "cell_type": "code",
   "execution_count": 23,
   "id": "40ff3946",
   "metadata": {},
   "outputs": [
    {
     "name": "stdout",
     "output_type": "stream",
     "text": [
      "Epoch 1/20\n",
      "\u001b[1m33/33\u001b[0m \u001b[32m━━━━━━━━━━━━━━━━━━━━\u001b[0m\u001b[37m\u001b[0m \u001b[1m0s\u001b[0m 1s/step - accuracy: 0.7328 - auc: 0.6916 - loss: 0.5437\n",
      "Epoch 1: val_auc did not improve from 0.51241\n",
      "\u001b[1m33/33\u001b[0m \u001b[32m━━━━━━━━━━━━━━━━━━━━\u001b[0m\u001b[37m\u001b[0m \u001b[1m43s\u001b[0m 1s/step - accuracy: 0.7331 - auc: 0.6921 - loss: 0.5433 - val_accuracy: 0.7385 - val_auc: 0.6896 - val_loss: 0.5443 - learning_rate: 1.0000e-04\n",
      "Epoch 2/20\n",
      "\u001b[1m33/33\u001b[0m \u001b[32m━━━━━━━━━━━━━━━━━━━━\u001b[0m\u001b[37m\u001b[0m \u001b[1m0s\u001b[0m 1s/step - accuracy: 0.7337 - auc: 0.7106 - loss: 0.5383\n",
      "Epoch 2: val_auc did not improve from 0.51241\n",
      "\u001b[1m33/33\u001b[0m \u001b[32m━━━━━━━━━━━━━━━━━━━━\u001b[0m\u001b[37m\u001b[0m \u001b[1m42s\u001b[0m 1s/step - accuracy: 0.7341 - auc: 0.7102 - loss: 0.5380 - val_accuracy: 0.7385 - val_auc: 0.6912 - val_loss: 0.5444 - learning_rate: 1.0000e-04\n",
      "Epoch 3/20\n",
      "\u001b[1m33/33\u001b[0m \u001b[32m━━━━━━━━━━━━━━━━━━━━\u001b[0m\u001b[37m\u001b[0m \u001b[1m0s\u001b[0m 1s/step - accuracy: 0.7653 - auc: 0.6599 - loss: 0.5309\n",
      "Epoch 3: val_auc did not improve from 0.51241\n",
      "\u001b[1m33/33\u001b[0m \u001b[32m━━━━━━━━━━━━━━━━━━━━\u001b[0m\u001b[37m\u001b[0m \u001b[1m44s\u001b[0m 1s/step - accuracy: 0.7649 - auc: 0.6610 - loss: 0.5308 - val_accuracy: 0.7385 - val_auc: 0.6907 - val_loss: 0.5448 - learning_rate: 1.0000e-04\n",
      "Epoch 4/20\n",
      "\u001b[1m33/33\u001b[0m \u001b[32m━━━━━━━━━━━━━━━━━━━━\u001b[0m\u001b[37m\u001b[0m \u001b[1m0s\u001b[0m 1s/step - accuracy: 0.7557 - auc: 0.6787 - loss: 0.5362\n",
      "Epoch 4: val_auc did not improve from 0.51241\n",
      "\u001b[1m33/33\u001b[0m \u001b[32m━━━━━━━━━━━━━━━━━━━━\u001b[0m\u001b[37m\u001b[0m \u001b[1m45s\u001b[0m 1s/step - accuracy: 0.7556 - auc: 0.6797 - loss: 0.5359 - val_accuracy: 0.7385 - val_auc: 0.6910 - val_loss: 0.5424 - learning_rate: 1.0000e-04\n",
      "Epoch 5/20\n",
      "\u001b[1m33/33\u001b[0m \u001b[32m━━━━━━━━━━━━━━━━━━━━\u001b[0m\u001b[37m\u001b[0m \u001b[1m0s\u001b[0m 1s/step - accuracy: 0.7575 - auc: 0.6706 - loss: 0.5264\n",
      "Epoch 5: val_auc did not improve from 0.51241\n",
      "\u001b[1m33/33\u001b[0m \u001b[32m━━━━━━━━━━━━━━━━━━━━\u001b[0m\u001b[37m\u001b[0m \u001b[1m45s\u001b[0m 1s/step - accuracy: 0.7572 - auc: 0.6715 - loss: 0.5264 - val_accuracy: 0.7385 - val_auc: 0.6941 - val_loss: 0.5422 - learning_rate: 1.0000e-04\n",
      "Epoch 6/20\n",
      "\u001b[1m33/33\u001b[0m \u001b[32m━━━━━━━━━━━━━━━━━━━━\u001b[0m\u001b[37m\u001b[0m \u001b[1m0s\u001b[0m 1s/step - accuracy: 0.7681 - auc: 0.6518 - loss: 0.5156\n",
      "Epoch 6: val_auc did not improve from 0.51241\n",
      "\u001b[1m33/33\u001b[0m \u001b[32m━━━━━━━━━━━━━━━━━━━━\u001b[0m\u001b[37m\u001b[0m \u001b[1m42s\u001b[0m 1s/step - accuracy: 0.7675 - auc: 0.6530 - loss: 0.5160 - val_accuracy: 0.7385 - val_auc: 0.6933 - val_loss: 0.5410 - learning_rate: 1.0000e-04\n",
      "Epoch 7/20\n",
      "\u001b[1m33/33\u001b[0m \u001b[32m━━━━━━━━━━━━━━━━━━━━\u001b[0m\u001b[37m\u001b[0m \u001b[1m0s\u001b[0m 1s/step - accuracy: 0.7275 - auc: 0.6837 - loss: 0.5489\n",
      "Epoch 7: val_auc did not improve from 0.51241\n",
      "\u001b[1m33/33\u001b[0m \u001b[32m━━━━━━━━━━━━━━━━━━━━\u001b[0m\u001b[37m\u001b[0m \u001b[1m44s\u001b[0m 1s/step - accuracy: 0.7281 - auc: 0.6840 - loss: 0.5483 - val_accuracy: 0.7385 - val_auc: 0.6936 - val_loss: 0.5397 - learning_rate: 1.0000e-04\n",
      "Epoch 8/20\n",
      "\u001b[1m33/33\u001b[0m \u001b[32m━━━━━━━━━━━━━━━━━━━━\u001b[0m\u001b[37m\u001b[0m \u001b[1m0s\u001b[0m 1s/step - accuracy: 0.7727 - auc: 0.7295 - loss: 0.4969\n",
      "Epoch 8: val_auc did not improve from 0.51241\n",
      "\u001b[1m33/33\u001b[0m \u001b[32m━━━━━━━━━━━━━━━━━━━━\u001b[0m\u001b[37m\u001b[0m \u001b[1m42s\u001b[0m 1s/step - accuracy: 0.7720 - auc: 0.7295 - loss: 0.4975 - val_accuracy: 0.7385 - val_auc: 0.6930 - val_loss: 0.5398 - learning_rate: 1.0000e-04\n",
      "Epoch 9/20\n",
      "\u001b[1m33/33\u001b[0m \u001b[32m━━━━━━━━━━━━━━━━━━━━\u001b[0m\u001b[37m\u001b[0m \u001b[1m0s\u001b[0m 1s/step - accuracy: 0.7647 - auc: 0.6841 - loss: 0.5047\n",
      "Epoch 9: val_auc did not improve from 0.51241\n",
      "\u001b[1m33/33\u001b[0m \u001b[32m━━━━━━━━━━━━━━━━━━━━\u001b[0m\u001b[37m\u001b[0m \u001b[1m45s\u001b[0m 1s/step - accuracy: 0.7641 - auc: 0.6846 - loss: 0.5053 - val_accuracy: 0.7385 - val_auc: 0.6938 - val_loss: 0.5396 - learning_rate: 1.0000e-04\n",
      "Epoch 10/20\n",
      "\u001b[1m33/33\u001b[0m \u001b[32m━━━━━━━━━━━━━━━━━━━━\u001b[0m\u001b[37m\u001b[0m \u001b[1m0s\u001b[0m 1s/step - accuracy: 0.7876 - auc: 0.7090 - loss: 0.4905\n",
      "Epoch 10: val_auc did not improve from 0.51241\n",
      "\n",
      "Epoch 10: ReduceLROnPlateau reducing learning rate to 4.999999873689376e-05.\n",
      "\u001b[1m33/33\u001b[0m \u001b[32m━━━━━━━━━━━━━━━━━━━━\u001b[0m\u001b[37m\u001b[0m \u001b[1m44s\u001b[0m 1s/step - accuracy: 0.7865 - auc: 0.7087 - loss: 0.4916 - val_accuracy: 0.7385 - val_auc: 0.6953 - val_loss: 0.5403 - learning_rate: 1.0000e-04\n",
      "Epoch 11/20\n",
      "\u001b[1m33/33\u001b[0m \u001b[32m━━━━━━━━━━━━━━━━━━━━\u001b[0m\u001b[37m\u001b[0m \u001b[1m0s\u001b[0m 1s/step - accuracy: 0.7630 - auc: 0.7067 - loss: 0.5062\n",
      "Epoch 11: val_auc did not improve from 0.51241\n",
      "\u001b[1m33/33\u001b[0m \u001b[32m━━━━━━━━━━━━━━━━━━━━\u001b[0m\u001b[37m\u001b[0m \u001b[1m42s\u001b[0m 1s/step - accuracy: 0.7627 - auc: 0.7082 - loss: 0.5062 - val_accuracy: 0.7385 - val_auc: 0.6970 - val_loss: 0.5384 - learning_rate: 5.0000e-05\n",
      "Epoch 12/20\n",
      "\u001b[1m33/33\u001b[0m \u001b[32m━━━━━━━━━━━━━━━━━━━━\u001b[0m\u001b[37m\u001b[0m \u001b[1m0s\u001b[0m 1s/step - accuracy: 0.7678 - auc: 0.7221 - loss: 0.5061\n",
      "Epoch 12: val_auc did not improve from 0.51241\n",
      "\u001b[1m33/33\u001b[0m \u001b[32m━━━━━━━━━━━━━━━━━━━━\u001b[0m\u001b[37m\u001b[0m \u001b[1m42s\u001b[0m 1s/step - accuracy: 0.7674 - auc: 0.7226 - loss: 0.5062 - val_accuracy: 0.7385 - val_auc: 0.6981 - val_loss: 0.5385 - learning_rate: 5.0000e-05\n",
      "Epoch 13/20\n",
      "\u001b[1m33/33\u001b[0m \u001b[32m━━━━━━━━━━━━━━━━━━━━\u001b[0m\u001b[37m\u001b[0m \u001b[1m0s\u001b[0m 1s/step - accuracy: 0.7354 - auc: 0.7515 - loss: 0.5192\n",
      "Epoch 13: val_auc did not improve from 0.51241\n",
      "\u001b[1m33/33\u001b[0m \u001b[32m━━━━━━━━━━━━━━━━━━━━\u001b[0m\u001b[37m\u001b[0m \u001b[1m43s\u001b[0m 1s/step - accuracy: 0.7360 - auc: 0.7512 - loss: 0.5189 - val_accuracy: 0.7385 - val_auc: 0.6970 - val_loss: 0.5383 - learning_rate: 5.0000e-05\n",
      "Epoch 14/20\n",
      "\u001b[1m33/33\u001b[0m \u001b[32m━━━━━━━━━━━━━━━━━━━━\u001b[0m\u001b[37m\u001b[0m \u001b[1m0s\u001b[0m 1s/step - accuracy: 0.7324 - auc: 0.6734 - loss: 0.5488\n",
      "Epoch 14: val_auc did not improve from 0.51241\n",
      "\n",
      "Epoch 14: ReduceLROnPlateau reducing learning rate to 2.499999936844688e-05.\n",
      "\u001b[1m33/33\u001b[0m \u001b[32m━━━━━━━━━━━━━━━━━━━━\u001b[0m\u001b[37m\u001b[0m \u001b[1m42s\u001b[0m 1s/step - accuracy: 0.7330 - auc: 0.6742 - loss: 0.5480 - val_accuracy: 0.7385 - val_auc: 0.6959 - val_loss: 0.5389 - learning_rate: 5.0000e-05\n",
      "Epoch 15/20\n",
      "\u001b[1m33/33\u001b[0m \u001b[32m━━━━━━━━━━━━━━━━━━━━\u001b[0m\u001b[37m\u001b[0m \u001b[1m0s\u001b[0m 1s/step - accuracy: 0.7687 - auc: 0.7444 - loss: 0.4996\n",
      "Epoch 15: val_auc did not improve from 0.51241\n",
      "\u001b[1m33/33\u001b[0m \u001b[32m━━━━━━━━━━━━━━━━━━━━\u001b[0m\u001b[37m\u001b[0m \u001b[1m42s\u001b[0m 1s/step - accuracy: 0.7685 - auc: 0.7444 - loss: 0.4999 - val_accuracy: 0.7385 - val_auc: 0.6970 - val_loss: 0.5393 - learning_rate: 2.5000e-05\n",
      "Epoch 16/20\n",
      "\u001b[1m33/33\u001b[0m \u001b[32m━━━━━━━━━━━━━━━━━━━━\u001b[0m\u001b[37m\u001b[0m \u001b[1m0s\u001b[0m 1s/step - accuracy: 0.7304 - auc: 0.7725 - loss: 0.5144\n",
      "Epoch 16: val_auc did not improve from 0.51241\n",
      "\u001b[1m33/33\u001b[0m \u001b[32m━━━━━━━━━━━━━━━━━━━━\u001b[0m\u001b[37m\u001b[0m \u001b[1m43s\u001b[0m 1s/step - accuracy: 0.7310 - auc: 0.7715 - loss: 0.5143 - val_accuracy: 0.7385 - val_auc: 0.6972 - val_loss: 0.5385 - learning_rate: 2.5000e-05\n",
      "Epoch 17/20\n",
      "\u001b[1m33/33\u001b[0m \u001b[32m━━━━━━━━━━━━━━━━━━━━\u001b[0m\u001b[37m\u001b[0m \u001b[1m0s\u001b[0m 1s/step - accuracy: 0.7558 - auc: 0.6980 - loss: 0.5174\n",
      "Epoch 17: val_auc did not improve from 0.51241\n",
      "\n",
      "Epoch 17: ReduceLROnPlateau reducing learning rate to 1.249999968422344e-05.\n",
      "\u001b[1m33/33\u001b[0m \u001b[32m━━━━━━━━━━━━━━━━━━━━\u001b[0m\u001b[37m\u001b[0m \u001b[1m46s\u001b[0m 1s/step - accuracy: 0.7557 - auc: 0.6988 - loss: 0.5174 - val_accuracy: 0.7385 - val_auc: 0.6973 - val_loss: 0.5384 - learning_rate: 2.5000e-05\n",
      "Epoch 18/20\n",
      "\u001b[1m33/33\u001b[0m \u001b[32m━━━━━━━━━━━━━━━━━━━━\u001b[0m\u001b[37m\u001b[0m \u001b[1m0s\u001b[0m 1s/step - accuracy: 0.7365 - auc: 0.7528 - loss: 0.5177\n",
      "Epoch 18: val_auc did not improve from 0.51241\n",
      "\u001b[1m33/33\u001b[0m \u001b[32m━━━━━━━━━━━━━━━━━━━━\u001b[0m\u001b[37m\u001b[0m \u001b[1m42s\u001b[0m 1s/step - accuracy: 0.7369 - auc: 0.7521 - loss: 0.5175 - val_accuracy: 0.7385 - val_auc: 0.6979 - val_loss: 0.5386 - learning_rate: 1.2500e-05\n",
      "Epoch 19/20\n",
      "\u001b[1m33/33\u001b[0m \u001b[32m━━━━━━━━━━━━━━━━━━━━\u001b[0m\u001b[37m\u001b[0m \u001b[1m0s\u001b[0m 1s/step - accuracy: 0.7171 - auc: 0.6896 - loss: 0.5519\n",
      "Epoch 19: val_auc did not improve from 0.51241\n",
      "\u001b[1m33/33\u001b[0m \u001b[32m━━━━━━━━━━━━━━━━━━━━\u001b[0m\u001b[37m\u001b[0m \u001b[1m41s\u001b[0m 1s/step - accuracy: 0.7179 - auc: 0.6908 - loss: 0.5510 - val_accuracy: 0.7385 - val_auc: 0.6967 - val_loss: 0.5386 - learning_rate: 1.2500e-05\n",
      "Epoch 19: early stopping\n",
      "Restoring model weights from the end of the best epoch: 13.\n",
      "\u001b[1m9/9\u001b[0m \u001b[32m━━━━━━━━━━━━━━━━━━━━\u001b[0m\u001b[37m\u001b[0m \u001b[1m7s\u001b[0m 722ms/step\n",
      "              precision    recall  f1-score   support\n",
      "\n",
      "           0       0.74      1.00      0.85        96\n",
      "           1       0.00      0.00      0.00        34\n",
      "\n",
      "    accuracy                           0.74       130\n",
      "   macro avg       0.37      0.50      0.42       130\n",
      "weighted avg       0.55      0.74      0.63       130\n",
      "\n",
      "[[96  0]\n",
      " [34  0]]\n",
      "Class weights: {0: 0.6735751295336787, 1: 1.9402985074626866}\n"
     ]
    },
    {
     "name": "stderr",
     "output_type": "stream",
     "text": [
      "g:\\Mi unidad\\Master_MIAA\\1er_Semestre\\5_ProyectoiNN\\MIAA-ICESI-ProyectoIA\\.venv\\Lib\\site-packages\\sklearn\\metrics\\_classification.py:1565: UndefinedMetricWarning: Precision is ill-defined and being set to 0.0 in labels with no predicted samples. Use `zero_division` parameter to control this behavior.\n",
      "  _warn_prf(average, modifier, f\"{metric.capitalize()} is\", len(result))\n",
      "g:\\Mi unidad\\Master_MIAA\\1er_Semestre\\5_ProyectoiNN\\MIAA-ICESI-ProyectoIA\\.venv\\Lib\\site-packages\\sklearn\\metrics\\_classification.py:1565: UndefinedMetricWarning: Precision is ill-defined and being set to 0.0 in labels with no predicted samples. Use `zero_division` parameter to control this behavior.\n",
      "  _warn_prf(average, modifier, f\"{metric.capitalize()} is\", len(result))\n",
      "g:\\Mi unidad\\Master_MIAA\\1er_Semestre\\5_ProyectoiNN\\MIAA-ICESI-ProyectoIA\\.venv\\Lib\\site-packages\\sklearn\\metrics\\_classification.py:1565: UndefinedMetricWarning: Precision is ill-defined and being set to 0.0 in labels with no predicted samples. Use `zero_division` parameter to control this behavior.\n",
      "  _warn_prf(average, modifier, f\"{metric.capitalize()} is\", len(result))\n",
      "C:\\Users\\josue\\AppData\\Local\\Temp\\ipykernel_36080\\1670566737.py:39: DeprecationWarning: DataFrameGroupBy.apply operated on the grouping columns. This behavior is deprecated, and in a future version of pandas the grouping columns will be excluded from the operation. Either pass `include_groups=False` to exclude the groupings or explicitly select the grouping columns after groupby to silence this warning.\n",
      "  balanced = train_df.groupby(\"label\").apply(\n"
     ]
    },
    {
     "name": "stdout",
     "output_type": "stream",
     "text": [
      "Found 772 validated image filenames belonging to 2 classes.\n"
     ]
    },
    {
     "name": "stderr",
     "output_type": "stream",
     "text": [
      "g:\\Mi unidad\\Master_MIAA\\1er_Semestre\\5_ProyectoiNN\\MIAA-ICESI-ProyectoIA\\.venv\\Lib\\site-packages\\keras\\src\\trainers\\data_adapters\\py_dataset_adapter.py:121: UserWarning: Your `PyDataset` class should call `super().__init__(**kwargs)` in its constructor. `**kwargs` can include `workers`, `use_multiprocessing`, `max_queue_size`. Do not pass these arguments to `fit()`, as they will be ignored.\n",
      "  self._warn_if_super_not_called()\n"
     ]
    },
    {
     "name": "stdout",
     "output_type": "stream",
     "text": [
      "Epoch 1/5\n",
      "\u001b[1m49/49\u001b[0m \u001b[32m━━━━━━━━━━━━━━━━━━━━\u001b[0m\u001b[37m\u001b[0m \u001b[1m0s\u001b[0m 1s/step - accuracy: 0.5355 - auc: 0.7045 - loss: 1.2317\n",
      "Epoch 1: val_auc did not improve from 0.51241\n",
      "\u001b[1m49/49\u001b[0m \u001b[32m━━━━━━━━━━━━━━━━━━━━\u001b[0m\u001b[37m\u001b[0m \u001b[1m64s\u001b[0m 1s/step - accuracy: 0.5355 - auc: 0.7049 - loss: 1.2313 - val_accuracy: 0.7385 - val_auc: 0.6967 - val_loss: 0.5359 - learning_rate: 1.0000e-05\n",
      "Epoch 2/5\n",
      "\u001b[1m49/49\u001b[0m \u001b[32m━━━━━━━━━━━━━━━━━━━━\u001b[0m\u001b[37m\u001b[0m \u001b[1m0s\u001b[0m 1s/step - accuracy: 0.5359 - auc: 0.7058 - loss: 1.2006\n",
      "Epoch 2: val_auc did not improve from 0.51241\n",
      "\u001b[1m49/49\u001b[0m \u001b[32m━━━━━━━━━━━━━━━━━━━━\u001b[0m\u001b[37m\u001b[0m \u001b[1m58s\u001b[0m 1s/step - accuracy: 0.5361 - auc: 0.7060 - loss: 1.1999 - val_accuracy: 0.7385 - val_auc: 0.6993 - val_loss: 0.5355 - learning_rate: 1.0000e-05\n",
      "Epoch 3/5\n",
      "\u001b[1m49/49\u001b[0m \u001b[32m━━━━━━━━━━━━━━━━━━━━\u001b[0m\u001b[37m\u001b[0m \u001b[1m0s\u001b[0m 1s/step - accuracy: 0.5803 - auc: 0.7008 - loss: 1.0544\n",
      "Epoch 3: val_auc did not improve from 0.51241\n",
      "\u001b[1m49/49\u001b[0m \u001b[32m━━━━━━━━━━━━━━━━━━━━\u001b[0m\u001b[37m\u001b[0m \u001b[1m59s\u001b[0m 1s/step - accuracy: 0.5798 - auc: 0.7012 - loss: 1.0553 - val_accuracy: 0.7308 - val_auc: 0.6970 - val_loss: 0.5372 - learning_rate: 1.0000e-05\n",
      "Epoch 4/5\n",
      "\u001b[1m49/49\u001b[0m \u001b[32m━━━━━━━━━━━━━━━━━━━━\u001b[0m\u001b[37m\u001b[0m \u001b[1m0s\u001b[0m 1s/step - accuracy: 0.5601 - auc: 0.6769 - loss: 1.1185\n",
      "Epoch 4: val_auc did not improve from 0.51241\n",
      "\u001b[1m49/49\u001b[0m \u001b[32m━━━━━━━━━━━━━━━━━━━━\u001b[0m\u001b[37m\u001b[0m \u001b[1m61s\u001b[0m 1s/step - accuracy: 0.5603 - auc: 0.6774 - loss: 1.1174 - val_accuracy: 0.7538 - val_auc: 0.6972 - val_loss: 0.5409 - learning_rate: 1.0000e-05\n",
      "Epoch 5/5\n",
      "\u001b[1m49/49\u001b[0m \u001b[32m━━━━━━━━━━━━━━━━━━━━\u001b[0m\u001b[37m\u001b[0m \u001b[1m0s\u001b[0m 1s/step - accuracy: 0.6371 - auc: 0.7073 - loss: 0.9826\n",
      "Epoch 5: val_auc did not improve from 0.51241\n",
      "\n",
      "Epoch 5: ReduceLROnPlateau reducing learning rate to 4.999999873689376e-06.\n",
      "\u001b[1m49/49\u001b[0m \u001b[32m━━━━━━━━━━━━━━━━━━━━\u001b[0m\u001b[37m\u001b[0m \u001b[1m60s\u001b[0m 1s/step - accuracy: 0.6365 - auc: 0.7076 - loss: 0.9831 - val_accuracy: 0.7308 - val_auc: 0.6981 - val_loss: 0.5458 - learning_rate: 1.0000e-05\n",
      "Restoring model weights from the end of the best epoch: 2.\n"
     ]
    }
   ],
   "source": [
    "# Probamos algunas técnicas de mejora\n",
    "\n",
    "# 2) Construir y compilar el modelo Xception (igual que antes)\n",
    "base = Xception(weights=\"imagenet\", include_top=False, input_shape=(299,299,3))\n",
    "# … cabeza, compile, callbacks …\n",
    "\n",
    "# 3) PRIMERO: evaluación inicial (si la quieres conservar)\n",
    "history = model.fit(\n",
    "    train_gen,\n",
    "    validation_data=val_gen,\n",
    "    epochs=20,\n",
    "    callbacks=callbacks\n",
    ")\n",
    "\n",
    "# 4) Evaluación con sklearn para métricas detalladas\n",
    "probs = model.predict(val_gen).ravel()\n",
    "y_pred = (probs > 0.5).astype(int)\n",
    "y_true = val_df[\"label\"].astype(int).values\n",
    "print(classification_report(y_true, y_pred))\n",
    "print(confusion_matrix(y_true, y_pred))\n",
    "\n",
    "\n",
    "# 5) Cálculo de class_weights\n",
    "from sklearn.utils import class_weight\n",
    "import numpy as np\n",
    "\n",
    "y_train = train_df[\"label\"].astype(int).values\n",
    "weights = class_weight.compute_class_weight(\"balanced\",\n",
    "                                            classes=np.unique(y_train),\n",
    "                                            y=y_train)\n",
    "class_weights = dict(enumerate(weights))\n",
    "print(\"Class weights:\", class_weights)\n",
    "\n",
    "# 6)  Oversampling de la clase minoritaria\n",
    "max_count = train_df[\"label\"].value_counts().max()\n",
    "balanced = train_df.groupby(\"label\").apply(\n",
    "    lambda g: g.sample(max_count, replace=True)\n",
    ").reset_index(drop=True)\n",
    "train_gen_bal = train_datagen.flow_from_dataframe(\n",
    "    balanced, x_col=\"filepath\", y_col=\"label\",\n",
    "    target_size=(299,299), batch_size=16, class_mode=\"binary\"\n",
    ")\n",
    "\n",
    "# 7) Fine-tuning: descongelar últimas capas\n",
    "for layer in base.layers[-20:]:\n",
    "    layer.trainable = True\n",
    "model.compile(\n",
    "    optimizer=tf.keras.optimizers.Adam(1e-5),\n",
    "    loss=\"binary_crossentropy\",\n",
    "    metrics=[\"accuracy\", tf.keras.metrics.AUC(name=\"auc\")]\n",
    ")\n",
    "\n",
    "# 8) Re-entrenar pasando class_weight o usando el generator balanceado\n",
    "history_ft = model.fit(\n",
    "    train_gen_bal,                       # o train_gen si no usas oversampling\n",
    "    validation_data=val_gen,\n",
    "    epochs=5,\n",
    "    callbacks=callbacks,\n",
    "    class_weight=class_weights\n",
    ")\n"
   ]
  },
  {
   "cell_type": "code",
   "execution_count": 24,
   "id": "3fbdee2d",
   "metadata": {},
   "outputs": [
    {
     "name": "stdout",
     "output_type": "stream",
     "text": [
      "\u001b[1m9/9\u001b[0m \u001b[32m━━━━━━━━━━━━━━━━━━━━\u001b[0m\u001b[37m\u001b[0m \u001b[1m9s\u001b[0m 813ms/step\n",
      "Classification report (threshold=0.3):\n",
      "              precision    recall  f1-score   support\n",
      "\n",
      "        Sano       0.84      0.75      0.79        96\n",
      "    Glaucoma       0.45      0.59      0.51        34\n",
      "\n",
      "    accuracy                           0.71       130\n",
      "   macro avg       0.65      0.67      0.65       130\n",
      "weighted avg       0.74      0.71      0.72       130\n",
      "\n",
      "Confusion matrix:\n",
      " [[72 24]\n",
      " [14 20]]\n"
     ]
    }
   ],
   "source": [
    "import numpy as np\n",
    "from sklearn.metrics import classification_report, confusion_matrix\n",
    "\n",
    "# 1) Obtén las probabilidades tras el fine-tuning\n",
    "probs_ft = model.predict(val_gen).ravel()\n",
    "\n",
    "# 2) Prueba con un umbral más bajo, p. ej. 0.3\n",
    "threshold = 0.3\n",
    "y_pred_ft = (probs_ft > threshold).astype(int)\n",
    "\n",
    "# 3) Etiquetas reales\n",
    "y_true = val_df[\"label\"].astype(int).values\n",
    "\n",
    "# 4) Reporte y matriz\n",
    "print(f\"Classification report (threshold={threshold}):\")\n",
    "print(classification_report(y_true, y_pred_ft, target_names=[\"Sano\",\"Glaucoma\"]))\n",
    "print(\"Confusion matrix:\\n\", confusion_matrix(y_true, y_pred_ft))\n"
   ]
  },
  {
   "cell_type": "code",
   "execution_count": 25,
   "id": "b84550f7",
   "metadata": {},
   "outputs": [
    {
     "data": {
      "image/png": "[encoded data removed]",
      "text/plain": [
       "<Figure size 640x480 with 1 Axes>"
      ]
     },
     "metadata": {},
     "output_type": "display_data"
    }
   ],
   "source": [
    "import matplotlib.pyplot as plt\n",
    "from sklearn.metrics import roc_curve, auc\n",
    "\n",
    "fpr, tpr, _ = roc_curve(y_true, probs_ft)\n",
    "roc_auc = auc(fpr, tpr)\n",
    "\n",
    "plt.figure()\n",
    "plt.plot(fpr, tpr, label=f\"AUC = {roc_auc:.3f}\")\n",
    "plt.plot([0,1], [0,1], linestyle=\"--\")\n",
    "plt.xlabel(\"False Positive Rate\")\n",
    "plt.ylabel(\"True Positive Rate (Recall)\")\n",
    "plt.title(\"ROC Curve\")\n",
    "plt.legend()\n",
    "plt.show()\n"
   ]
  }
 ],
 "metadata": {
  "kernelspec": {
   "display_name": ".venv",
   "language": "python",
   "name": "python3"
  },
  "language_info": {
   "codemirror_mode": {
    "name": "ipython",
    "version": 3
   },
   "file_extension": ".py",
   "mimetype": "text/x-python",
   "name": "python",
   "nbconvert_exporter": "python",
   "pygments_lexer": "ipython3",
   "version": "3.11.9"
  }
 },
 "nbformat": 4,
 "nbformat_minor": 5
}
