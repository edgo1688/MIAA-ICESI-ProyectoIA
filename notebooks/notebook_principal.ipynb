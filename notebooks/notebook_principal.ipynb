{
 "cells": [
  {
   "cell_type": "markdown",
   "id": "04062340",
   "metadata": {},
   "source": [
    "ÍNDICE"
   ]
  },
  {
   "cell_type": "markdown",
   "id": "95677bf7",
   "metadata": {},
   "source": [
    "Entendimiento del negocio"
   ]
  }
 ],
 "metadata": {
  "language_info": {
   "name": "python"
  }
 },
 "nbformat": 4,
 "nbformat_minor": 5
}
